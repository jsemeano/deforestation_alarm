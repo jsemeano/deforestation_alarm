{
 "cells": [
  {
   "cell_type": "code",
   "execution_count": 2,
   "id": "07650f9f",
   "metadata": {},
   "outputs": [],
   "source": [
    "import boto3\n",
    "import rasterio\n",
    "import rasterio.features\n",
    "import rasterio.warp\n",
    "from rasterio.session import AWSSession\n",
    "from rasterio.enums import Resampling\n"
   ]
  },
  {
   "cell_type": "code",
   "execution_count": 8,
   "id": "9b7f6748",
   "metadata": {},
   "outputs": [],
   "source": [
    "session = AWSSession(boto3.Session())\n"
   ]
  },
  {
   "cell_type": "code",
   "execution_count": 9,
   "id": "26be993c",
   "metadata": {},
   "outputs": [],
   "source": [
    "image_url = \"https://earth-search.aws.element84.com/v0/collections/sentinel-s2-l2a-cogs/items/S2A_MSIL2A_20210205T040621_N0214_R119_T46RBS_20210205T071926/cogs/TCI.tif\"\n"
   ]
  },
  {
   "cell_type": "code",
   "execution_count": 23,
   "id": "df2735a3",
   "metadata": {},
   "outputs": [],
   "source": [
    "import rasterio\n",
    "from rasterio.session import AWSSession\n",
    "from rasterio import warp\n",
    "\n",
    "image_url = \"https://earth-search.aws.element84.com/v0/collections/sentinel-s2-l2a-cogs/items/S2A_MSIL2A_20230225T102021_N0509_R065_T32TMT_20230225T163245/cogs/TCI.tif\"\n",
    "image_url = \"https://sentinel-cogs.s3.us-west-2.amazonaws.com/sentinel-s2-l2a-cogs/32/T/MT/2023/2/S2B_32TMT_20230220_0_L2A/TCI.tif\"\n",
    "with rasterio.Env(\n",
    "    AWS_NO_SIGN_REQUEST=\"YES\",\n",
    "    AWS_REGIONAL_ENDPOINTS=\"FALSE\",\n",
    "    GDAL_DISABLE_READDIR_ON_OPEN=\"EMPTY_DIR\",\n",
    "):\n",
    "    with rasterio.open(image_url, session=AWSSession()) as src:\n",
    "        profile = src.profile\n",
    "        # Create a new profile with the \"tiled\" and \"blockxsize\" options set\n",
    "        profile.update(\n",
    "            tiled=True,\n",
    "            blockxsize=256,\n",
    "            blockysize=256,\n",
    "            compress=\"deflate\",\n",
    "            predictor=2,\n",
    "        )\n",
    "        # Define the output filename and open the output file for writing\n",
    "        output_file = \"output.tif\"\n",
    "        with rasterio.open(output_file, \"w\", **profile) as dst:\n",
    "            # Copy the input data to the output file, block by block\n",
    "            for ji, window in src.block_windows():\n",
    "                data = src.read(window=window)\n",
    "                dst.write(data, window=window)\n",
    "            # Add overviews to the output file\n",
    "            dst.build_overviews([2, 4, 8, 16])\n"
   ]
  },
  {
   "cell_type": "code",
   "execution_count": null,
   "id": "75e098ba",
   "metadata": {},
   "outputs": [],
   "source": []
  }
 ],
 "metadata": {
  "kernelspec": {
   "display_name": "Python 3 (ipykernel)",
   "language": "python",
   "name": "python3"
  },
  "language_info": {
   "codemirror_mode": {
    "name": "ipython",
    "version": 3
   },
   "file_extension": ".py",
   "mimetype": "text/x-python",
   "name": "python",
   "nbconvert_exporter": "python",
   "pygments_lexer": "ipython3",
   "version": "3.10.6"
  }
 },
 "nbformat": 4,
 "nbformat_minor": 5
}
